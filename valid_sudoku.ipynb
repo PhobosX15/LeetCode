{
 "cells": [
  {
   "cell_type": "code",
   "execution_count": 133,
   "metadata": {},
   "outputs": [],
   "source": [
    "import numpy as np"
   ]
  },
  {
   "cell_type": "code",
   "execution_count": 134,
   "metadata": {},
   "outputs": [],
   "source": [
    "board=[[\"5\",\"3\",\".\",\".\",\"7\",\".\",\".\",\".\",\".\"],[\"6\",\".\",\".\",\"1\",\"9\",\"5\",\".\",\".\",\".\"],[\".\",\"9\",\"8\",\".\",\".\",\".\",\".\",\"6\",\".\"],[\"8\",\".\",\".\",\".\",\"6\",\".\",\".\",\".\",\"3\"],[\"4\",\".\",\".\",\"8\",\".\",\"3\",\".\",\".\",\"1\"],[\"7\",\".\",\".\",\".\",\"2\",\".\",\".\",\".\",\"6\"],[\".\",\"6\",\".\",\".\",\".\",\".\",\"2\",\"8\",\".\"],[\".\",\".\",\".\",\"4\",\"1\",\"9\",\".\",\".\",\"5\"],[\".\",\".\",\".\",\".\",\"8\",\".\",\".\",\"7\",\"9\"]]"
   ]
  },
  {
   "cell_type": "code",
   "execution_count": 135,
   "metadata": {},
   "outputs": [],
   "source": [
    "row_hash={}\n",
    "column_hash={}\n",
    "square_hash={}\n",
    "flag=True"
   ]
  },
  {
   "cell_type": "code",
   "execution_count": 136,
   "metadata": {},
   "outputs": [],
   "source": [
    "row_count=0\n",
    "for row in board:\n",
    "    sub_row={}\n",
    "    for row_val in row:\n",
    "        try:\n",
    "            val=int(row_val)\n",
    "            if val in sub_row:\n",
    "                flag=False\n",
    "                break\n",
    "            else:\n",
    "                sub_row[val]=val\n",
    "        except:\n",
    "            continue\n",
    "    \n",
    "    row_hash[row_count]=sub_row\n",
    "    row_count=row_count+1\n"
   ]
  },
  {
   "cell_type": "code",
   "execution_count": 151,
   "metadata": {},
   "outputs": [
    {
     "data": {
      "text/plain": [
       "36926.03699999999"
      ]
     },
     "execution_count": 151,
     "metadata": {},
     "output_type": "execute_result"
    }
   ],
   "source": []
  },
  {
   "cell_type": "code",
   "execution_count": 138,
   "metadata": {},
   "outputs": [],
   "source": [
    "board_col=list(map(list, zip(*board)))"
   ]
  },
  {
   "cell_type": "code",
   "execution_count": 139,
   "metadata": {},
   "outputs": [],
   "source": [
    "col_count=0\n",
    "for col in board_col:\n",
    "    sub_col={}\n",
    "    for col_val in col:\n",
    "        try:\n",
    "            val=int(col_val)\n",
    "            if val in sub_col:\n",
    "                flag=False\n",
    "                break\n",
    "            else:\n",
    "                sub_col[val]=val\n",
    "        except:\n",
    "            continue\n",
    "    \n",
    "    column_hash[col_count]=sub_col\n",
    "    col_count=col_count+1"
   ]
  },
  {
   "cell_type": "code",
   "execution_count": 140,
   "metadata": {},
   "outputs": [],
   "source": [
    "a=[*range(0,8,3)]"
   ]
  },
  {
   "cell_type": "code",
   "execution_count": 141,
   "metadata": {},
   "outputs": [],
   "source": [
    "board=np.reshape(board,(9,9))\n"
   ]
  },
  {
   "cell_type": "code",
   "execution_count": 142,
   "metadata": {},
   "outputs": [],
   "source": [
    "sqaure_count=0\n",
    "for i in a:\n",
    "    for j in a:\n",
    "        \n",
    "        sub_matrix=board[np.ix_([i,i+1,i+2],[j,j+1,j+2])]\n",
    "        sub_vector=np.reshape(sub_matrix,9)\n",
    "        sub_sqaure={}\n",
    "        for vec_val in sub_vector:\n",
    "            try:\n",
    "                val=int(vec_val)\n",
    "                if val in sub_sqaure:\n",
    "                    flag=False\n",
    "                    break\n",
    "                else:\n",
    "                    sub_sqaure[val]=val\n",
    "            except:\n",
    "                continue\n",
    "    square_hash[sqaure_count]= sub_sqaure\n",
    "    sqaure_count=sqaure_count+1\n",
    "\n",
    "\n"
   ]
  },
  {
   "cell_type": "code",
   "execution_count": 143,
   "metadata": {},
   "outputs": [
    {
     "data": {
      "text/plain": [
       "True"
      ]
     },
     "execution_count": 143,
     "metadata": {},
     "output_type": "execute_result"
    }
   ],
   "source": [
    "flag"
   ]
  },
  {
   "cell_type": "code",
   "execution_count": null,
   "metadata": {},
   "outputs": [],
   "source": []
  }
 ],
 "metadata": {
  "kernelspec": {
   "display_name": "Python 3.7.7 ('base')",
   "language": "python",
   "name": "python3"
  },
  "language_info": {
   "codemirror_mode": {
    "name": "ipython",
    "version": 3
   },
   "file_extension": ".py",
   "mimetype": "text/x-python",
   "name": "python",
   "nbconvert_exporter": "python",
   "pygments_lexer": "ipython3",
   "version": "3.7.7"
  },
  "orig_nbformat": 4,
  "vscode": {
   "interpreter": {
    "hash": "efc25f871a052bf2b9884aa52214f86d539de7232c03321f8b9f90b35eb368cb"
   }
  }
 },
 "nbformat": 4,
 "nbformat_minor": 2
}
