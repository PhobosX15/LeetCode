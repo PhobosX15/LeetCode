{
 "cells": [
  {
   "cell_type": "code",
   "execution_count": 29,
   "metadata": {},
   "outputs": [],
   "source": [
    "numbers=[3,3]\n",
    "target=6"
   ]
  },
  {
   "cell_type": "code",
   "execution_count": 19,
   "metadata": {},
   "outputs": [],
   "source": [
    "def twoSums(nums,target):\n",
    "    result=[\"No result\"]\n",
    "    for num in range(len(nums)-1):\n",
    "            for option in [x for x in range(0,len(nums)) if x!=num]:\n",
    "                sum=nums[num]+nums[option]\n",
    "                if sum == target[0]:\n",
    "                    result=[num,option]\n",
    "                    break\n",
    "    return(result)"
   ]
  },
  {
   "cell_type": "code",
   "execution_count": 30,
   "metadata": {},
   "outputs": [],
   "source": [
    "idxhash={}\n",
    "for num in range(len(numbers)):\n",
    "    idxhash[numbers[num]]=num\n",
    "\n",
    "for num in range(len(numbers)):\n",
    "    goal=target-numbers[num]\n",
    "    if idxhash.get(goal)!=None:\n",
    "        result=[num,idxhash[goal]]\n",
    "        break\n",
    "#return(result)\n"
   ]
  },
  {
   "cell_type": "code",
   "execution_count": 31,
   "metadata": {},
   "outputs": [
    {
     "data": {
      "text/plain": [
       "[0, 1]"
      ]
     },
     "execution_count": 31,
     "metadata": {},
     "output_type": "execute_result"
    }
   ],
   "source": [
    "result"
   ]
  },
  {
   "cell_type": "code",
   "execution_count": null,
   "metadata": {},
   "outputs": [],
   "source": []
  }
 ],
 "metadata": {
  "kernelspec": {
   "display_name": "Python 3.7.7 ('base')",
   "language": "python",
   "name": "python3"
  },
  "language_info": {
   "codemirror_mode": {
    "name": "ipython",
    "version": 3
   },
   "file_extension": ".py",
   "mimetype": "text/x-python",
   "name": "python",
   "nbconvert_exporter": "python",
   "pygments_lexer": "ipython3",
   "version": "3.7.7"
  },
  "orig_nbformat": 4,
  "vscode": {
   "interpreter": {
    "hash": "efc25f871a052bf2b9884aa52214f86d539de7232c03321f8b9f90b35eb368cb"
   }
  }
 },
 "nbformat": 4,
 "nbformat_minor": 2
}
